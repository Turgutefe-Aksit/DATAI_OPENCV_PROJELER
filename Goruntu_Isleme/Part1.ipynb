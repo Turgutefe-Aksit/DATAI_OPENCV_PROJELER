{
 "cells": [
  {
   "cell_type": "code",
   "execution_count": 2,
   "id": "e2d7a548",
   "metadata": {},
   "outputs": [],
   "source": [
    "import os\n",
    "import cv2\n",
    "import numpy as np\n",
    "import time"
   ]
  },
  {
   "cell_type": "code",
   "execution_count": 3,
   "id": "5c2b3195",
   "metadata": {},
   "outputs": [],
   "source": [
    "k = cv2.waitKey(0) &0xFF\n",
    "if k==27: #esx or  ==ord(letter)\n",
    "    cv2.destroyAllWindows()"
   ]
  },
  {
   "cell_type": "markdown",
   "id": "ea529d11",
   "metadata": {},
   "source": [
    "### Video içe aktarma"
   ]
  },
  {
   "cell_type": "code",
   "execution_count": 3,
   "id": "251c3111",
   "metadata": {},
   "outputs": [],
   "source": [
    "video_name = \"path\"\n",
    "#cap olarak isimlendirilir.\n",
    "cap = cv2.VideoCapture(video_name)"
   ]
  },
  {
   "cell_type": "code",
   "execution_count": 4,
   "id": "ff9121a4",
   "metadata": {},
   "outputs": [
    {
     "data": {
      "text/plain": [
       "0.0"
      ]
     },
     "execution_count": 4,
     "metadata": {},
     "output_type": "execute_result"
    }
   ],
   "source": [
    "cap.get(3)#genişlik\n",
    "cap.get(4)#yükseklik"
   ]
  },
  {
   "cell_type": "code",
   "execution_count": 5,
   "id": "2e1d67e8",
   "metadata": {},
   "outputs": [
    {
     "name": "stdout",
     "output_type": "stream",
     "text": [
      "Hata\n"
     ]
    }
   ],
   "source": [
    "if cap.isOpened() == False:\n",
    "    print(\"Hata\")"
   ]
  },
  {
   "cell_type": "code",
   "execution_count": 6,
   "id": "455b6db7",
   "metadata": {},
   "outputs": [],
   "source": [
    "while True:\n",
    "    ret,frame = cap.read()#ret = başarılı mı ?, frame = her bir resim\n",
    "    if ret ==True:\n",
    "        time.sleep(0.01) # resimlerin aşırı hızlı akmasını engeller.\n",
    "        cv.imshow(\"Vide\",frame)\n",
    "    else:\n",
    "        break\n",
    "    if cv2.waitKey(1) & 0xFF == ord(\"q\"):\n",
    "        break"
   ]
  },
  {
   "cell_type": "code",
   "execution_count": 7,
   "id": "b8fa750e",
   "metadata": {},
   "outputs": [],
   "source": [
    "cap.release()\n",
    "cv2.destroyAllWindows()"
   ]
  },
  {
   "cell_type": "markdown",
   "id": "20e57516",
   "metadata": {},
   "source": [
    "### Kamera\n"
   ]
  },
  {
   "cell_type": "code",
   "execution_count": 8,
   "id": "a3c5227c",
   "metadata": {},
   "outputs": [
    {
     "name": "stdout",
     "output_type": "stream",
     "text": [
      "640 480\n"
     ]
    }
   ],
   "source": [
    "cap =  cv2.VideoCapture(0)\n",
    "\n",
    "width =int(cap.get(cv2.CAP_PROP_FRAME_WIDTH))\n",
    "height =int(cap.get(cv2.CAP_PROP_FRAME_HEIGHT))\n",
    "\n",
    "print(width,height)"
   ]
  },
  {
   "cell_type": "code",
   "execution_count": 9,
   "id": "03472e79",
   "metadata": {},
   "outputs": [],
   "source": [
    "#video kaydet\n",
    "\n",
    "frame_sec = 20\n",
    "writer = cv2.VideoWriter(\"video_kaydi.mp4\",cv2.VideoWriter_fourcc(*\"DIVX\"),frame_sec,(width,height))\n",
    "\n",
    "while True:\n",
    "    \n",
    "    ret,frame = cap.read()\n",
    "    cv2.imshow(\"Video\",frame)\n",
    "    \n",
    "    #save\n",
    "    writer.write(frame)\n",
    "    \n",
    "    if cv2.waitKey(1) & 0xFF == ord(\"q\") : break\n",
    "cap.release()\n",
    "writer.release()\n",
    "cv2.destroyAllWindows()"
   ]
  },
  {
   "cell_type": "markdown",
   "id": "7e0cd8c7",
   "metadata": {},
   "source": [
    "# resize"
   ]
  },
  {
   "cell_type": "markdown",
   "id": "ef77b884",
   "metadata": {},
   "source": [
    "* img yüklendi olarak varsayıyotum.\n",
    "* img.shape = boyutu verir\n",
    "* cv2.resize(img,(x,x))"
   ]
  },
  {
   "cell_type": "markdown",
   "id": "0633dc6f",
   "metadata": {},
   "source": [
    "### Cropped Kırapma"
   ]
  },
  {
   "cell_type": "markdown",
   "id": "a9feb684",
   "metadata": {},
   "source": [
    "* img[:x,:x] o dan x e kadar satır ve stunları alıe gerisini kırpar. opencv de numpyın tersi. (height, width)"
   ]
  },
  {
   "cell_type": "markdown",
   "id": "16747f3c",
   "metadata": {},
   "source": [
    "### Şekil ve Metin Ekleme"
   ]
  },
  {
   "cell_type": "code",
   "execution_count": 4,
   "id": "0ab3eb3b",
   "metadata": {},
   "outputs": [],
   "source": [
    "img = np.zeros((512,512,3), np.uint8)#siyah"
   ]
  },
  {
   "cell_type": "code",
   "execution_count": 5,
   "id": "01d27e1f",
   "metadata": {},
   "outputs": [
    {
     "data": {
      "text/plain": [
       "(512, 512, 3)"
      ]
     },
     "execution_count": 5,
     "metadata": {},
     "output_type": "execute_result"
    }
   ],
   "source": [
    "img.shape"
   ]
  },
  {
   "cell_type": "code",
   "execution_count": 6,
   "id": "b1c25463",
   "metadata": {},
   "outputs": [],
   "source": [
    "#line\n",
    "img = cv2.line(img,(0,0),(512,512),(0,255,0),3)#(resim,başlangıç,bitiş,renk,kalınlık) opencv RGB değil BGR olarak kabul eder."
   ]
  },
  {
   "cell_type": "code",
   "execution_count": 7,
   "id": "7710af1d",
   "metadata": {},
   "outputs": [
    {
     "data": {
      "text/plain": [
       "-1"
      ]
     },
     "execution_count": 7,
     "metadata": {},
     "output_type": "execute_result"
    }
   ],
   "source": [
    "cv2.imshow(\"resim\",img)\n",
    "cv2.waitKey(0)"
   ]
  },
  {
   "cell_type": "code",
   "execution_count": 8,
   "id": "00eaef6b",
   "metadata": {},
   "outputs": [
    {
     "data": {
      "text/plain": [
       "-1"
      ]
     },
     "execution_count": 8,
     "metadata": {},
     "output_type": "execute_result"
    }
   ],
   "source": [
    "#rectangle dikdörtgen\n",
    "cv2.rectangle(img,(0,0),(256,256),(255,0,0),cv2.FILLED)#resim,başlangış,bitiş,renk\n",
    "cv2.imshow(\"resim\",img)\n",
    "cv2.waitKey(0)"
   ]
  },
  {
   "cell_type": "code",
   "execution_count": 9,
   "id": "8cab3936",
   "metadata": {},
   "outputs": [
    {
     "data": {
      "text/plain": [
       "-1"
      ]
     },
     "execution_count": 9,
     "metadata": {},
     "output_type": "execute_result"
    }
   ],
   "source": [
    "#CIRCLE\n",
    "\n",
    "cv2.circle(img,(400,400),30,(0,0,255),cv2.FILLED)#resim,merkez,çap,renk\n",
    "cv2.imshow(\"resim\",img)\n",
    "cv2.waitKey(0)"
   ]
  },
  {
   "cell_type": "code",
   "execution_count": 12,
   "id": "53d626df",
   "metadata": {},
   "outputs": [
    {
     "data": {
      "text/plain": [
       "-1"
      ]
     },
     "execution_count": 12,
     "metadata": {},
     "output_type": "execute_result"
    }
   ],
   "source": [
    "#text\n",
    "\n",
    "cv2.putText(img,\"Resim\",(350,350),cv2.FONT_HERSHEY_COMPLEX, 1,(255,255,255))#1 = kalınlık ve başlangıç r nin alt tarafı üstü değil.\n",
    "cv2.imshow(\"resim\",img)\n",
    "cv2.waitKey(0)"
   ]
  }
 ],
 "metadata": {
  "kernelspec": {
   "display_name": "Python 3",
   "language": "python",
   "name": "python3"
  },
  "language_info": {
   "codemirror_mode": {
    "name": "ipython",
    "version": 3
   },
   "file_extension": ".py",
   "mimetype": "text/x-python",
   "name": "python",
   "nbconvert_exporter": "python",
   "pygments_lexer": "ipython3",
   "version": "3.8.8"
  }
 },
 "nbformat": 4,
 "nbformat_minor": 5
}
