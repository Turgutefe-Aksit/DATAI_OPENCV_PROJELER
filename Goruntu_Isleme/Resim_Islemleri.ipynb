{
 "cells": [
  {
   "cell_type": "code",
   "execution_count": 2,
   "id": "5043f144",
   "metadata": {},
   "outputs": [],
   "source": [
    "import cv2\n",
    "import numpy as np\n",
    "import matplotlib.pyplot as plt"
   ]
  },
  {
   "cell_type": "markdown",
   "id": "8865eb25",
   "metadata": {},
   "source": [
    "### Perspektif Çarpıtma"
   ]
  },
  {
   "cell_type": "markdown",
   "id": "22c3f474",
   "metadata": {},
   "source": [
    "* amaç yamuk cisimlerin de işleme dahil edilerek algoritmanın düzgün çalışmasını sağlama."
   ]
  },
  {
   "cell_type": "markdown",
   "id": "68cf9739",
   "metadata": {},
   "source": [
    "* köşeleri belirle pointle. köşe kordinatlarına paintten bakabbilirsin.\n",
    "* resmin köşeleri ve yapmak istediğimiz resmin köşeleri yani 2 tane point."
   ]
  },
  {
   "cell_type": "code",
   "execution_count": 2,
   "id": "5891eb61",
   "metadata": {},
   "outputs": [],
   "source": [
    "#matrix = cv2.getPerspectiveTransform(pts1,pts2)\n",
    "\n",
    "#imgOutput=cv2.warpPerspective(img,matrix,(width,height))\n"
   ]
  },
  {
   "cell_type": "markdown",
   "id": "af1b9baf",
   "metadata": {},
   "source": [
    "### Görüntüleri Karıştırmak"
   ]
  },
  {
   "cell_type": "markdown",
   "id": "e7a0556e",
   "metadata": {},
   "source": [
    "* 2 tane resmi hayalet gibi birleştiricez.\n"
   ]
  },
  {
   "cell_type": "markdown",
   "id": "52587848",
   "metadata": {},
   "source": [
    "* img1 ve img2 olsun. opencv ye yüklerken bgr olarak yüklediği için renkler değişebilir.\n",
    "* cv2.cvtColor(img1,cv2.COLOR_BGR2RGB) yaparsak rgb olarak yükler. renkler karışmaz.\n",
    "* birleştirirken shapleri aynı olmalı ilk olarak resize ile aynı hale getirmeliyiz."
   ]
  },
  {
   "cell_type": "markdown",
   "id": "a133eeef",
   "metadata": {},
   "source": [
    "* karıştırılmış resim için = alpha çarpı img1 + beta çarpı img2 beta ve alphaya göre baskınlıkları  değişir."
   ]
  },
  {
   "cell_type": "code",
   "execution_count": 6,
   "id": "723c66f1",
   "metadata": {},
   "outputs": [],
   "source": [
    "#blended = cv2.addWeighted(src1 = img1, alpha = 0.5,src2 = img2, beta = 0.5,gamma = 0)"
   ]
  },
  {
   "cell_type": "markdown",
   "id": "0055379f",
   "metadata": {},
   "source": [
    "### Görüntüleri Bulanıklaştırmak"
   ]
  },
  {
   "cell_type": "markdown",
   "id": "eb7b7f9e",
   "metadata": {},
   "source": [
    "###### Noise"
   ]
  },
  {
   "cell_type": "code",
   "execution_count": 2,
   "id": "d2432613",
   "metadata": {},
   "outputs": [],
   "source": [
    "# def gaussianNoise(image):\n",
    "#   row,col,ch = image.shape\n",
    "#    mean = 0\n",
    "#    var = 0.05\n",
    "#    sigma = var ** 0.5\n",
    "#    \n",
    "#    gauss = no.random.normal(mean.sigma,(row,col,ch))\n",
    "#    gauss = gauss.reshape(row,col,ch)\n",
    "#    noisy = image + gauss\n",
    "#    \n",
    "#    return noisy\n",
    "    "
   ]
  },
  {
   "cell_type": "markdown",
   "id": "a4ef9e5d",
   "metadata": {},
   "source": [
    "* güültüyü ekleyebilmek için resmi normalize et."
   ]
  },
  {
   "cell_type": "code",
   "execution_count": 5,
   "id": "717d1481",
   "metadata": {},
   "outputs": [],
   "source": [
    "# img = cv2.cvtColor(img, cv2.vCOLOR_BGR2RGB)/255\n",
    "# gaussianNoisyImage = gaussianNoise(img)"
   ]
  },
  {
   "cell_type": "markdown",
   "id": "b0b845f1",
   "metadata": {},
   "source": [
    "* gaussian blur ile bu durumu biraz azaltabiliriz."
   ]
  },
  {
   "cell_type": "markdown",
   "id": "2d0c6f1a",
   "metadata": {},
   "source": [
    "###### Salt Papper (Tuz Karabiber)"
   ]
  },
  {
   "cell_type": "code",
   "execution_count": 9,
   "id": "f28bab03",
   "metadata": {},
   "outputs": [],
   "source": [
    "def saltPapperNoise(image):\n",
    "    \n",
    "    row,col,ch = image.shape\n",
    "    s_vs_p = 0.5\n",
    "    amount = 9.994\n",
    "    \n",
    "    noisy = np.copy(image)\n",
    "    \n",
    "    #salt\n",
    "    num_salt = np.ceil(amount*image.size*s_vs_p) #ceil yuvarlar \n",
    "    coords = [nprandom.randint(0,i-1,int(num_salt)) for i in image.shape]\n",
    "    noisy[coords] = 1\n",
    "    \n",
    "    #Papper siyah\n",
    "    num_papper = np.ceil(amount*image.size*(1-s_vs_p)) #ceil yuvarlar\n",
    "    coords = [nprandom.randint(0,i-1,int(num_papper)) for i in image.shape]\n",
    "    noisy[coords] = 0\n",
    "    return noisy\n",
    "\n",
    "#spImage = saltPapperNoise(imp)"
   ]
  },
  {
   "cell_type": "code",
   "execution_count": 10,
   "id": "f5406400",
   "metadata": {},
   "outputs": [],
   "source": [
    "# medianBlur2 = cv2.medianBlur(spImage.astype(np.float32),ksize=3)"
   ]
  },
  {
   "cell_type": "markdown",
   "id": "34a41293",
   "metadata": {},
   "source": [
    "### Morfolojik Operasyonlar"
   ]
  },
  {
   "cell_type": "code",
   "execution_count": 4,
   "id": "fc649627",
   "metadata": {},
   "outputs": [
    {
     "ename": "NameError",
     "evalue": "name 'img' is not defined",
     "output_type": "error",
     "traceback": [
      "\u001b[1;31m---------------------------------------------------------------------------\u001b[0m",
      "\u001b[1;31mNameError\u001b[0m                                 Traceback (most recent call last)",
      "\u001b[1;32m<ipython-input-4-21785c838cd4>\u001b[0m in \u001b[0;36m<module>\u001b[1;34m\u001b[0m\n\u001b[0;32m      1\u001b[0m \u001b[1;31m#erozyon(beyazları kırpar iterasyone göree şiddeti belirlenir.)\u001b[0m\u001b[1;33m\u001b[0m\u001b[1;33m\u001b[0m\u001b[1;33m\u001b[0m\u001b[0m\n\u001b[0;32m      2\u001b[0m \u001b[0mkernel\u001b[0m \u001b[1;33m=\u001b[0m \u001b[0mnp\u001b[0m\u001b[1;33m.\u001b[0m\u001b[0mones\u001b[0m\u001b[1;33m(\u001b[0m\u001b[1;33m(\u001b[0m\u001b[1;36m5\u001b[0m\u001b[1;33m,\u001b[0m\u001b[1;36m5\u001b[0m\u001b[1;33m)\u001b[0m\u001b[1;33m,\u001b[0m\u001b[0mdtype\u001b[0m \u001b[1;33m=\u001b[0m \u001b[0mnp\u001b[0m\u001b[1;33m.\u001b[0m\u001b[0muint8\u001b[0m\u001b[1;33m)\u001b[0m\u001b[1;33m\u001b[0m\u001b[1;33m\u001b[0m\u001b[0m\n\u001b[1;32m----> 3\u001b[1;33m \u001b[0mresult\u001b[0m \u001b[1;33m=\u001b[0m \u001b[0mcv2\u001b[0m\u001b[1;33m.\u001b[0m\u001b[0merode\u001b[0m\u001b[1;33m(\u001b[0m\u001b[0mimg\u001b[0m\u001b[1;33m,\u001b[0m\u001b[0mkernel\u001b[0m\u001b[1;33m,\u001b[0m\u001b[0miteration\u001b[0m \u001b[1;33m=\u001b[0m \u001b[1;36m1\u001b[0m\u001b[1;33m)\u001b[0m\u001b[1;33m\u001b[0m\u001b[1;33m\u001b[0m\u001b[0m\n\u001b[0m\u001b[0;32m      4\u001b[0m \u001b[1;33m\u001b[0m\u001b[0m\n\u001b[0;32m      5\u001b[0m \u001b[1;31m#genişleme dilation, erozyonun tersi.\u001b[0m\u001b[1;33m\u001b[0m\u001b[1;33m\u001b[0m\u001b[1;33m\u001b[0m\u001b[0m\n",
      "\u001b[1;31mNameError\u001b[0m: name 'img' is not defined"
     ]
    }
   ],
   "source": [
    "#erozyon(beyazları kırpar iterasyone göree şiddeti belirlenir.)\n",
    "kernel = np.ones((5,5),dtype = np.uint8)\n",
    "result = cv2.erode(img,kernel,iteration = 1)\n",
    "\n",
    "#genişleme dilation, erozyonun tersi.\n",
    "result = cv2.dilate(img,kernel,iteration = 1)\n",
    "\n",
    "#açılma(beyaz gürültüyü azaltmak için)\n",
    "# beyaz gürültü ekleyelim.\n",
    "whiteNoise = np.random.randint(0,2,size=img.shape[:2])\n",
    "whiteNoise = whiteNoise * 255\n",
    "noise_img = whiteNoise + img#resim siyah beyaz olmalı\n",
    "#açılma işlemi\n",
    "opining = cv2.morphologyEx(noise_img.astype(np.float32),vc2.MORPH_OPEN,kernel)\n",
    "\n",
    "#kapatma\n",
    "#blacknoisy lazım.\n",
    "balckNoise = np.random.randint(0,2,size=img.shape[:2])\n",
    "balckNoise = balckNoise * -255\n",
    "noise_img = balckNoise + img#resim siyah beyaz olmalı\n",
    "\n",
    "black_noise_img = blackNoise + img\n",
    "black_noise_img[black_noise_img<=-245] = 0\n",
    "\n",
    "closing = cv2.morphologyEx(black_noise_img.astype(np.float32),vc2.MORPH_CLOSE,kernel)\n",
    "\n",
    "\n",
    "#genişleme ve erozyon arasındaki farkı alma = gradient edge detection yapar.\n",
    "gradient = cv2.morphologyEx(img,vc2.MORPH_GRADIENT,kernel)"
   ]
  },
  {
   "cell_type": "markdown",
   "id": "f3e4cc50",
   "metadata": {},
   "source": [
    "### GRADYANLAR\n"
   ]
  },
  {
   "cell_type": "code",
   "execution_count": null,
   "id": "9187e7ce",
   "metadata": {},
   "outputs": [],
   "source": [
    "#img siyah beyaz olmalı.\n",
    "\n",
    "#x gradları\n",
    "sobelx = cv2.Sobel(img,ddepth = cv2.CV_165,dx=1,dy=0,ksize = 5)\n",
    "#y gradları\n",
    "sobely = cv2.Sobel(img,ddepth = cv2.CV_165,dx=0,dy=1,ksize = 5)\n",
    "#her 2 si için laplacian\n",
    "laplacian = cv2.Laplacian(img,ddepth = cv2.CV_165)"
   ]
  },
  {
   "cell_type": "markdown",
   "id": "65226c3c",
   "metadata": {},
   "source": [
    "### Histogram"
   ]
  },
  {
   "cell_type": "code",
   "execution_count": null,
   "id": "3ab19426",
   "metadata": {},
   "outputs": [],
   "source": [
    "img_hist = cv2.calcHist([img],channels =[0],mask = None,histSize = [256],ranges = [0,256])\n",
    "\n",
    "color =(\"b\",\"g\",\"r\")\n",
    "for i,c in enumerate(color):\n",
    "    hist = cv2.calcHist([img],channels =[i],mask = None,histSize = [256],ranges = [0,256])\n",
    "    plt.plot(hist,color=c)"
   ]
  }
 ],
 "metadata": {
  "kernelspec": {
   "display_name": "Python 3",
   "language": "python",
   "name": "python3"
  },
  "language_info": {
   "codemirror_mode": {
    "name": "ipython",
    "version": 3
   },
   "file_extension": ".py",
   "mimetype": "text/x-python",
   "name": "python",
   "nbconvert_exporter": "python",
   "pygments_lexer": "ipython3",
   "version": "3.8.8"
  }
 },
 "nbformat": 4,
 "nbformat_minor": 5
}
